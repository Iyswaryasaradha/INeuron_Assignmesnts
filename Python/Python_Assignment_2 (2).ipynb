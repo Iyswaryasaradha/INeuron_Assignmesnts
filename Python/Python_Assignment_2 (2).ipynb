{
  "nbformat": 4,
  "nbformat_minor": 0,
  "metadata": {
    "colab": {
      "provenance": []
    },
    "kernelspec": {
      "name": "python3",
      "display_name": "Python 3"
    },
    "language_info": {
      "name": "python"
    }
  },
  "cells": [
    {
      "cell_type": "code",
      "execution_count": 2,
      "metadata": {
        "colab": {
          "base_uri": "https://localhost:8080/"
        },
        "id": "3DjbWKlSAwPQ",
        "outputId": "fa16e19b-5ade-4d39-b64a-d436e664e501"
      },
      "outputs": [
        {
          "output_type": "stream",
          "name": "stdout",
          "text": [
            "Enter the values in Kilometers:3.5\n",
            "3.50 kilometers is equal to 2.17 miles\n"
          ]
        }
      ],
      "source": [
        "### 1. Write a Python program to convert kilometers to miles?\n",
        "def km_miles(km):\n",
        "\tmiles = km*0.621371\n",
        "\treturn(miles)\n",
        "\n",
        "km = float(input(\"Enter the values in Kilometers:\"))\n",
        "miles = km_miles(km)\n",
        "print('%0.2f kilometers is equal to %0.2f miles' %(km,miles))"
      ]
    },
    {
      "cell_type": "code",
      "source": [
        "### 2.Write a Python program to convert Celsius to Fahrenheit?\n",
        "def Celsius_Fahrenheit(celsius):\n",
        "\tFahrenheit = (celsius*1.8)+32\n",
        "\treturn(Fahrenheit)\n",
        "\n",
        "celsius = float(input(\"Enter the Celsius value:\"))\n",
        "fahrenheit = Celsius_Fahrenheit(celsius)\n",
        "print(f\"The equivalent faherenheit value is: {fahrenheit}\")"
      ],
      "metadata": {
        "colab": {
          "base_uri": "https://localhost:8080/"
        },
        "id": "U1bwGQAyAxbN",
        "outputId": "ce65bc6a-f85d-445d-fc45-1d3e351107be"
      },
      "execution_count": 6,
      "outputs": [
        {
          "output_type": "stream",
          "name": "stdout",
          "text": [
            "Enter the Celsius value:32\n",
            "The equivalent faherenheit value is: 89.6\n"
          ]
        }
      ]
    },
    {
      "cell_type": "code",
      "source": [
        "### 3. Write a Python program to display calendar?\n",
        "\n",
        "import calendar   \n",
        "year_value = int(input(\"Enter year: \"))  \n",
        "month_value = int(input(\"Enter month: \"))  \n",
        "  \n",
        "# display the calendar  \n",
        "print(calendar.month(year_value,month_value)) "
      ],
      "metadata": {
        "colab": {
          "base_uri": "https://localhost:8080/"
        },
        "id": "dHKHNwD3CCDL",
        "outputId": "2e3bcc9b-13a2-432b-bd51-14ea6b0f40e5"
      },
      "execution_count": 7,
      "outputs": [
        {
          "output_type": "stream",
          "name": "stdout",
          "text": [
            "Enter year: 2022\n",
            "Enter month: 5\n",
            "      May 2022\n",
            "Mo Tu We Th Fr Sa Su\n",
            "                   1\n",
            " 2  3  4  5  6  7  8\n",
            " 9 10 11 12 13 14 15\n",
            "16 17 18 19 20 21 22\n",
            "23 24 25 26 27 28 29\n",
            "30 31\n",
            "\n"
          ]
        }
      ]
    },
    {
      "cell_type": "code",
      "source": [
        "### 4. Write a Python program to solve quadratic equation?\n",
        "\n",
        "import cmath  \n",
        "a = float(input('Enter a: '))  \n",
        "b = float(input('Enter b: '))  \n",
        "c = float(input('Enter c: '))  \n",
        " \n",
        "d = (b**2) - (4*a*c)  \n",
        "   \n",
        "sol1 = (-b-cmath.sqrt(d))/(2*a)  \n",
        "sol2 = (-b+cmath.sqrt(d))/(2*a)  \n",
        "print('The solution are {0} and {1}'.format(sol1,sol2)) \n"
      ],
      "metadata": {
        "colab": {
          "base_uri": "https://localhost:8080/"
        },
        "id": "qOl_oc0bCtAX",
        "outputId": "2257a914-f1a4-498b-f620-f2729c9f8722"
      },
      "execution_count": 8,
      "outputs": [
        {
          "output_type": "stream",
          "name": "stdout",
          "text": [
            "Enter a: 2\n",
            "Enter b: 4\n",
            "Enter c: 8\n",
            "The solution are (-1-1.7320508075688772j) and (-1+1.7320508075688772j)\n"
          ]
        }
      ]
    },
    {
      "cell_type": "code",
      "source": [
        "### 5. Write a Python program to swap two variables without temp variable?\n",
        "\n",
        "a = input('Enter a: ')\n",
        "b = input('Enter b: ')\n",
        "a, b = b, a\n",
        "\n",
        "print(\"a:\", a)\n",
        "print(\"b:\", b)"
      ],
      "metadata": {
        "colab": {
          "base_uri": "https://localhost:8080/"
        },
        "id": "Ct7UWYvwDYzo",
        "outputId": "36919a18-2917-4a24-bb41-e978e9b06427"
      },
      "execution_count": 9,
      "outputs": [
        {
          "output_type": "stream",
          "name": "stdout",
          "text": [
            "Enter a: 2\n",
            "Enter b: 7\n",
            "a: 7\n",
            "b: 2\n"
          ]
        }
      ]
    },
    {
      "cell_type": "code",
      "source": [],
      "metadata": {
        "id": "fYeUgFNgD9v6"
      },
      "execution_count": null,
      "outputs": []
    }
  ]
}