{
  "nbformat": 4,
  "nbformat_minor": 0,
  "metadata": {
    "colab": {
      "provenance": []
    },
    "kernelspec": {
      "name": "python3",
      "display_name": "Python 3"
    },
    "language_info": {
      "name": "python"
    }
  },
  "cells": [
    {
      "cell_type": "code",
      "source": [
        "### 1. Write a Python program to print \"Hello Python\"?\n",
        "\n",
        "print(\"Hello Python\")"
      ],
      "metadata": {
        "colab": {
          "base_uri": "https://localhost:8080/"
        },
        "id": "fYeUgFNgD9v6",
        "outputId": "d9a6fe03-8276-4ff8-9176-1fae1236219d"
      },
      "execution_count": 10,
      "outputs": [
        {
          "output_type": "stream",
          "name": "stdout",
          "text": [
            "Hello Python\n"
          ]
        }
      ]
    },
    {
      "cell_type": "code",
      "source": [
        "### 2. Write a Python program to do arithmetical operations addition and division.?\n",
        "\n",
        "def add(a,b):\n",
        "  return a+b\n",
        "\n",
        "def divide(a,b):\n",
        "  if b != 0:\n",
        "    c = a/b\n",
        "    return c\n",
        "  else:\n",
        "    print(\"provide non zero value\")\n",
        "\n",
        "print(\"Addition results:\", add(4,2))\n",
        "print(\"Division value:\", divide(4,2))\n",
        "\n"
      ],
      "metadata": {
        "colab": {
          "base_uri": "https://localhost:8080/"
        },
        "id": "9bcgHoQfGKpa",
        "outputId": "5084c764-6cda-49c4-e28d-f818bd8b61c2"
      },
      "execution_count": 15,
      "outputs": [
        {
          "output_type": "stream",
          "name": "stdout",
          "text": [
            "Addition results: 6\n",
            "Division value: 2.0\n"
          ]
        }
      ]
    },
    {
      "cell_type": "code",
      "source": [
        "### 3. Write a Python program to find the area of a triangle?\n",
        "\n",
        "def triangle_area(b,h):\n",
        "  return ((b*h)/2)\n",
        "\n",
        "b = float(input(\"Enter the breadth value:\"))\n",
        "h = float(input(\"Enter the height value:\"))\n",
        "\n",
        "print(\"Area of triangle is \", triangle_area(b,h))"
      ],
      "metadata": {
        "colab": {
          "base_uri": "https://localhost:8080/"
        },
        "id": "-cO9WEmkGxmW",
        "outputId": "3dbfc726-655e-40e7-9a4e-db3c2562fd15"
      },
      "execution_count": 19,
      "outputs": [
        {
          "output_type": "stream",
          "name": "stdout",
          "text": [
            "Enter the breadth value:5\n",
            "Enter the height value:5\n",
            "Area of triangle is  12.5\n"
          ]
        }
      ]
    },
    {
      "cell_type": "code",
      "source": [
        "### 4. Write a Python program to swap two variables?\n",
        "a = input('Enter a: ')\n",
        "b = input('Enter b: ')\n",
        "a, b = b, a\n",
        "\n",
        "print(\"a:\", a)\n",
        "print(\"b:\", b)"
      ],
      "metadata": {
        "colab": {
          "base_uri": "https://localhost:8080/"
        },
        "id": "GmpToBZqH76n",
        "outputId": "f45ae886-62a2-42ac-84a4-2bbb481289e7"
      },
      "execution_count": 20,
      "outputs": [
        {
          "output_type": "stream",
          "name": "stdout",
          "text": [
            "Enter a: 3\n",
            "Enter b: 5\n",
            "a: 5\n",
            "b: 3\n"
          ]
        }
      ]
    },
    {
      "cell_type": "code",
      "source": [
        "### 5. Write a Python program to generate a random number?\n",
        "import random\n",
        "print(\"Random numbers:\", random.randint(0,19))"
      ],
      "metadata": {
        "colab": {
          "base_uri": "https://localhost:8080/"
        },
        "id": "OGJQPF1EIM7Q",
        "outputId": "e9f9a8ff-2cb2-4287-9939-6dd0026eb8a2"
      },
      "execution_count": 22,
      "outputs": [
        {
          "output_type": "stream",
          "name": "stdout",
          "text": [
            "Random numbers: 6\n"
          ]
        }
      ]
    },
    {
      "cell_type": "code",
      "source": [],
      "metadata": {
        "id": "yDJvkHICIqGR"
      },
      "execution_count": null,
      "outputs": []
    }
  ]
}